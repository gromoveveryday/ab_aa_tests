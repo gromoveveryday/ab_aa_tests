{
 "cells": [
  {
   "cell_type": "markdown",
   "id": "be896f85-ec69-4d6e-bda6-97724e9b405a",
   "metadata": {},
   "source": [
    "# Первым этапом для выполнения задания будет импорт необходимых питон-библиотек;"
   ]
  },
  {
   "cell_type": "code",
   "execution_count": 2,
   "id": "47087258-9b3b-4ec9-9df1-ba7ed8378e89",
   "metadata": {},
   "outputs": [],
   "source": [
    "import pandas as pd\n",
    "import pandahouse\n",
    "import numpy as np\n",
    "import scipy.stats as stats"
   ]
  },
  {
   "cell_type": "markdown",
   "id": "50618078-7bc5-42e0-9d93-5e6b48ed0bc2",
   "metadata": {},
   "source": [
    "# Далее выгрузим данные из кликхауса по датам из прошлого задания, но по всем экспериментальным группам;"
   ]
  },
  {
   "cell_type": "code",
   "execution_count": 3,
   "id": "15b68994-5374-4ed8-9f37-38adc67b6481",
   "metadata": {},
   "outputs": [],
   "source": [
    "connection_0 = {'host': 'https://clickhouse.lab.karpov.courses',\n",
    "                      'database':'simulator_20221220',\n",
    "                      'user':'student', \n",
    "                      'password':'dpo_python_2020'\n",
    "}\n",
    "\n",
    "query1 = \"\"\"\n",
    "SELECT exp_group, user_id, SUM(action = 'like') AS likes, SUM(action = 'view') AS views, likes/ views AS CTR\n",
    "FROM {db}.feed_actions\n",
    "WHERE (toDate(time) BETWEEN '2022-12-02' AND '2022-12-08' ) AND exp_group IN (0, 3)\n",
    "GROUP BY exp_group, user_id\n",
    "\"\"\"\n",
    "\n",
    "query2 = \"\"\"\n",
    "SELECT exp_group, user_id, SUM(action = 'like') AS likes, SUM(action = 'view') AS views, likes/ views AS CTR\n",
    "FROM {db}.feed_actions\n",
    "WHERE (toDate(time) BETWEEN '2022-12-02' AND '2022-12-08' ) AND exp_group IN (1, 2)\n",
    "GROUP BY exp_group, user_id\n",
    "\"\"\"\n",
    "\n",
    "df1, df2 = pandahouse.read_clickhouse(query1, connection = connection_0), pandahouse.read_clickhouse(query2, connection = connection_0)"
   ]
  },
  {
   "cell_type": "markdown",
   "id": "0286b38c-e012-4188-a6ee-44dbe4476f72",
   "metadata": {},
   "source": [
    "# Посмотрим количество пользователей в каждой из групп;"
   ]
  },
  {
   "cell_type": "code",
   "execution_count": 4,
   "id": "5d8f7dfa-edf1-4feb-9d2c-87af09fb4a07",
   "metadata": {},
   "outputs": [
    {
     "data": {
      "text/plain": [
       "exp_group\n",
       "0     9999\n",
       "3    10049\n",
       "Name: user_id, dtype: int64"
      ]
     },
     "execution_count": 4,
     "metadata": {},
     "output_type": "execute_result"
    }
   ],
   "source": [
    "df1.groupby('exp_group')['user_id'].count()"
   ]
  },
  {
   "cell_type": "code",
   "execution_count": 5,
   "id": "a719a9a4-8db8-47f3-b6e7-d18b2cbe2a8e",
   "metadata": {},
   "outputs": [
    {
     "data": {
      "text/plain": [
       "exp_group\n",
       "1    10079\n",
       "2     9952\n",
       "Name: user_id, dtype: int64"
      ]
     },
     "execution_count": 5,
     "metadata": {},
     "output_type": "execute_result"
    }
   ],
   "source": [
    "df2.groupby('exp_group')['user_id'].count()"
   ]
  },
  {
   "cell_type": "markdown",
   "id": "c93ed06a-5fa5-4699-b8b7-43d0a65656a0",
   "metadata": {},
   "source": [
    "# В группах примерно одинаковое количество пользователей; далее необхоимо посчитать общее значение CTR по контрольным группам 0 и 1, а далее посчитать линезированные лайки для всех групп;"
   ]
  },
  {
   "cell_type": "code",
   "execution_count": 6,
   "id": "267c0bcd-dca6-4a36-a94b-6d89bf4f1d72",
   "metadata": {},
   "outputs": [
    {
     "name": "stdout",
     "output_type": "stream",
     "text": [
      "0.20823612262916305\n",
      "0.20802680490126244\n"
     ]
    }
   ],
   "source": [
    "control_CTR_0 = df1[df1.exp_group == 0].likes.sum() / df1[df1.exp_group == 0].views.sum()\n",
    "control_CTR_1 = df2[df2.exp_group == 1].likes.sum() / df2[df2.exp_group == 1].views.sum()\n",
    "\n",
    "print(control_CTR_0)\n",
    "print(control_CTR_1)"
   ]
  },
  {
   "cell_type": "code",
   "execution_count": 7,
   "id": "d8877329-8ffa-4ca8-b2c2-4ff4c3d15c20",
   "metadata": {},
   "outputs": [],
   "source": [
    "df1['linerised_likes'] = df1.likes - control_CTR_0 * df1.views"
   ]
  },
  {
   "cell_type": "code",
   "execution_count": 8,
   "id": "3675b5d2-824d-40f5-9adb-766ea35bbdf8",
   "metadata": {},
   "outputs": [
    {
     "data": {
      "text/html": [
       "<div>\n",
       "<style scoped>\n",
       "    .dataframe tbody tr th:only-of-type {\n",
       "        vertical-align: middle;\n",
       "    }\n",
       "\n",
       "    .dataframe tbody tr th {\n",
       "        vertical-align: top;\n",
       "    }\n",
       "\n",
       "    .dataframe thead th {\n",
       "        text-align: right;\n",
       "    }\n",
       "</style>\n",
       "<table border=\"1\" class=\"dataframe\">\n",
       "  <thead>\n",
       "    <tr style=\"text-align: right;\">\n",
       "      <th></th>\n",
       "      <th>exp_group</th>\n",
       "      <th>user_id</th>\n",
       "      <th>likes</th>\n",
       "      <th>views</th>\n",
       "      <th>CTR</th>\n",
       "      <th>linerised_likes</th>\n",
       "    </tr>\n",
       "  </thead>\n",
       "  <tbody>\n",
       "    <tr>\n",
       "      <th>0</th>\n",
       "      <td>3</td>\n",
       "      <td>115383</td>\n",
       "      <td>9</td>\n",
       "      <td>30</td>\n",
       "      <td>0.300000</td>\n",
       "      <td>2.752916</td>\n",
       "    </tr>\n",
       "    <tr>\n",
       "      <th>1</th>\n",
       "      <td>3</td>\n",
       "      <td>123580</td>\n",
       "      <td>13</td>\n",
       "      <td>48</td>\n",
       "      <td>0.270833</td>\n",
       "      <td>3.004666</td>\n",
       "    </tr>\n",
       "    <tr>\n",
       "      <th>2</th>\n",
       "      <td>0</td>\n",
       "      <td>4944</td>\n",
       "      <td>8</td>\n",
       "      <td>41</td>\n",
       "      <td>0.195122</td>\n",
       "      <td>-0.537681</td>\n",
       "    </tr>\n",
       "    <tr>\n",
       "      <th>3</th>\n",
       "      <td>0</td>\n",
       "      <td>4504</td>\n",
       "      <td>5</td>\n",
       "      <td>15</td>\n",
       "      <td>0.333333</td>\n",
       "      <td>1.876458</td>\n",
       "    </tr>\n",
       "    <tr>\n",
       "      <th>4</th>\n",
       "      <td>0</td>\n",
       "      <td>121508</td>\n",
       "      <td>18</td>\n",
       "      <td>88</td>\n",
       "      <td>0.204545</td>\n",
       "      <td>-0.324779</td>\n",
       "    </tr>\n",
       "    <tr>\n",
       "      <th>...</th>\n",
       "      <td>...</td>\n",
       "      <td>...</td>\n",
       "      <td>...</td>\n",
       "      <td>...</td>\n",
       "      <td>...</td>\n",
       "      <td>...</td>\n",
       "    </tr>\n",
       "    <tr>\n",
       "      <th>20043</th>\n",
       "      <td>3</td>\n",
       "      <td>13781</td>\n",
       "      <td>10</td>\n",
       "      <td>27</td>\n",
       "      <td>0.370370</td>\n",
       "      <td>4.377625</td>\n",
       "    </tr>\n",
       "    <tr>\n",
       "      <th>20044</th>\n",
       "      <td>3</td>\n",
       "      <td>130651</td>\n",
       "      <td>18</td>\n",
       "      <td>98</td>\n",
       "      <td>0.183673</td>\n",
       "      <td>-2.407140</td>\n",
       "    </tr>\n",
       "    <tr>\n",
       "      <th>20045</th>\n",
       "      <td>0</td>\n",
       "      <td>3681</td>\n",
       "      <td>7</td>\n",
       "      <td>55</td>\n",
       "      <td>0.127273</td>\n",
       "      <td>-4.452987</td>\n",
       "    </tr>\n",
       "    <tr>\n",
       "      <th>20046</th>\n",
       "      <td>3</td>\n",
       "      <td>122008</td>\n",
       "      <td>5</td>\n",
       "      <td>41</td>\n",
       "      <td>0.121951</td>\n",
       "      <td>-3.537681</td>\n",
       "    </tr>\n",
       "    <tr>\n",
       "      <th>20047</th>\n",
       "      <td>3</td>\n",
       "      <td>122190</td>\n",
       "      <td>19</td>\n",
       "      <td>65</td>\n",
       "      <td>0.292308</td>\n",
       "      <td>5.464652</td>\n",
       "    </tr>\n",
       "  </tbody>\n",
       "</table>\n",
       "<p>20048 rows × 6 columns</p>\n",
       "</div>"
      ],
      "text/plain": [
       "       exp_group  user_id  likes  views       CTR  linerised_likes\n",
       "0              3   115383      9     30  0.300000         2.752916\n",
       "1              3   123580     13     48  0.270833         3.004666\n",
       "2              0     4944      8     41  0.195122        -0.537681\n",
       "3              0     4504      5     15  0.333333         1.876458\n",
       "4              0   121508     18     88  0.204545        -0.324779\n",
       "...          ...      ...    ...    ...       ...              ...\n",
       "20043          3    13781     10     27  0.370370         4.377625\n",
       "20044          3   130651     18     98  0.183673        -2.407140\n",
       "20045          0     3681      7     55  0.127273        -4.452987\n",
       "20046          3   122008      5     41  0.121951        -3.537681\n",
       "20047          3   122190     19     65  0.292308         5.464652\n",
       "\n",
       "[20048 rows x 6 columns]"
      ]
     },
     "execution_count": 8,
     "metadata": {},
     "output_type": "execute_result"
    }
   ],
   "source": [
    "df1"
   ]
  },
  {
   "cell_type": "code",
   "execution_count": 10,
   "id": "11da09bf-db1d-40cc-95c5-4bce5aff4e9f",
   "metadata": {},
   "outputs": [],
   "source": [
    "df2['linerised_likes'] = df2.likes - control_CTR_1 * df2.views"
   ]
  },
  {
   "cell_type": "code",
   "execution_count": 11,
   "id": "34684b18-6326-4589-9070-be0d20af635f",
   "metadata": {},
   "outputs": [
    {
     "data": {
      "text/html": [
       "<div>\n",
       "<style scoped>\n",
       "    .dataframe tbody tr th:only-of-type {\n",
       "        vertical-align: middle;\n",
       "    }\n",
       "\n",
       "    .dataframe tbody tr th {\n",
       "        vertical-align: top;\n",
       "    }\n",
       "\n",
       "    .dataframe thead th {\n",
       "        text-align: right;\n",
       "    }\n",
       "</style>\n",
       "<table border=\"1\" class=\"dataframe\">\n",
       "  <thead>\n",
       "    <tr style=\"text-align: right;\">\n",
       "      <th></th>\n",
       "      <th>exp_group</th>\n",
       "      <th>user_id</th>\n",
       "      <th>likes</th>\n",
       "      <th>views</th>\n",
       "      <th>CTR</th>\n",
       "      <th>linerised_likes</th>\n",
       "    </tr>\n",
       "  </thead>\n",
       "  <tbody>\n",
       "    <tr>\n",
       "      <th>0</th>\n",
       "      <td>1</td>\n",
       "      <td>109963</td>\n",
       "      <td>3</td>\n",
       "      <td>15</td>\n",
       "      <td>0.200000</td>\n",
       "      <td>-0.120402</td>\n",
       "    </tr>\n",
       "    <tr>\n",
       "      <th>1</th>\n",
       "      <td>1</td>\n",
       "      <td>26117</td>\n",
       "      <td>32</td>\n",
       "      <td>141</td>\n",
       "      <td>0.226950</td>\n",
       "      <td>2.668221</td>\n",
       "    </tr>\n",
       "    <tr>\n",
       "      <th>2</th>\n",
       "      <td>1</td>\n",
       "      <td>138232</td>\n",
       "      <td>18</td>\n",
       "      <td>73</td>\n",
       "      <td>0.246575</td>\n",
       "      <td>2.814043</td>\n",
       "    </tr>\n",
       "    <tr>\n",
       "      <th>3</th>\n",
       "      <td>1</td>\n",
       "      <td>26295</td>\n",
       "      <td>33</td>\n",
       "      <td>122</td>\n",
       "      <td>0.270492</td>\n",
       "      <td>7.620730</td>\n",
       "    </tr>\n",
       "    <tr>\n",
       "      <th>4</th>\n",
       "      <td>1</td>\n",
       "      <td>18392</td>\n",
       "      <td>7</td>\n",
       "      <td>32</td>\n",
       "      <td>0.218750</td>\n",
       "      <td>0.343142</td>\n",
       "    </tr>\n",
       "    <tr>\n",
       "      <th>...</th>\n",
       "      <td>...</td>\n",
       "      <td>...</td>\n",
       "      <td>...</td>\n",
       "      <td>...</td>\n",
       "      <td>...</td>\n",
       "      <td>...</td>\n",
       "    </tr>\n",
       "    <tr>\n",
       "      <th>20026</th>\n",
       "      <td>1</td>\n",
       "      <td>132567</td>\n",
       "      <td>45</td>\n",
       "      <td>296</td>\n",
       "      <td>0.152027</td>\n",
       "      <td>-16.575934</td>\n",
       "    </tr>\n",
       "    <tr>\n",
       "      <th>20027</th>\n",
       "      <td>1</td>\n",
       "      <td>30872</td>\n",
       "      <td>11</td>\n",
       "      <td>59</td>\n",
       "      <td>0.186441</td>\n",
       "      <td>-1.273581</td>\n",
       "    </tr>\n",
       "    <tr>\n",
       "      <th>20028</th>\n",
       "      <td>2</td>\n",
       "      <td>25383</td>\n",
       "      <td>42</td>\n",
       "      <td>127</td>\n",
       "      <td>0.330709</td>\n",
       "      <td>15.580596</td>\n",
       "    </tr>\n",
       "    <tr>\n",
       "      <th>20029</th>\n",
       "      <td>2</td>\n",
       "      <td>139020</td>\n",
       "      <td>24</td>\n",
       "      <td>114</td>\n",
       "      <td>0.210526</td>\n",
       "      <td>0.284944</td>\n",
       "    </tr>\n",
       "    <tr>\n",
       "      <th>20030</th>\n",
       "      <td>2</td>\n",
       "      <td>17310</td>\n",
       "      <td>9</td>\n",
       "      <td>82</td>\n",
       "      <td>0.109756</td>\n",
       "      <td>-8.058198</td>\n",
       "    </tr>\n",
       "  </tbody>\n",
       "</table>\n",
       "<p>20031 rows × 6 columns</p>\n",
       "</div>"
      ],
      "text/plain": [
       "       exp_group  user_id  likes  views       CTR  linerised_likes\n",
       "0              1   109963      3     15  0.200000        -0.120402\n",
       "1              1    26117     32    141  0.226950         2.668221\n",
       "2              1   138232     18     73  0.246575         2.814043\n",
       "3              1    26295     33    122  0.270492         7.620730\n",
       "4              1    18392      7     32  0.218750         0.343142\n",
       "...          ...      ...    ...    ...       ...              ...\n",
       "20026          1   132567     45    296  0.152027       -16.575934\n",
       "20027          1    30872     11     59  0.186441        -1.273581\n",
       "20028          2    25383     42    127  0.330709        15.580596\n",
       "20029          2   139020     24    114  0.210526         0.284944\n",
       "20030          2    17310      9     82  0.109756        -8.058198\n",
       "\n",
       "[20031 rows x 6 columns]"
      ]
     },
     "execution_count": 11,
     "metadata": {},
     "output_type": "execute_result"
    }
   ],
   "source": [
    "df2"
   ]
  },
  {
   "cell_type": "markdown",
   "id": "01561dc3-1291-48c8-b994-ebf0ec9b89fd",
   "metadata": {},
   "source": [
    "# Теперь можно провести Т-тесты по обычному CTR и линезированным лайкам;"
   ]
  },
  {
   "cell_type": "code",
   "execution_count": 13,
   "id": "9325b588-506e-4abd-b2a1-0d8090519724",
   "metadata": {},
   "outputs": [
    {
     "data": {
      "text/plain": [
       "Ttest_indResult(statistic=-13.896870721904069, pvalue=1.055849414662529e-43)"
      ]
     },
     "execution_count": 13,
     "metadata": {},
     "output_type": "execute_result"
    }
   ],
   "source": [
    "stats.ttest_ind(df1[df1.exp_group == 0].CTR, df1[df1.exp_group == 3].CTR, equal_var = False)"
   ]
  },
  {
   "cell_type": "code",
   "execution_count": 14,
   "id": "105b8c3b-c068-4ce1-baf1-51312ab1b01e",
   "metadata": {},
   "outputs": [
    {
     "data": {
      "text/plain": [
       "Ttest_indResult(statistic=-15.21499546090383, pvalue=5.491424947968532e-52)"
      ]
     },
     "execution_count": 14,
     "metadata": {},
     "output_type": "execute_result"
    }
   ],
   "source": [
    "stats.ttest_ind(df1[df1.exp_group == 0].linerised_likes, df1[df1.exp_group == 3].linerised_likes, equal_var = False)"
   ]
  },
  {
   "cell_type": "code",
   "execution_count": 15,
   "id": "59ef9ca6-2476-4fb3-b782-23aecd02ce9f",
   "metadata": {},
   "outputs": [
    {
     "data": {
      "text/plain": [
       "Ttest_indResult(statistic=0.7094392041270485, pvalue=0.4780623130874935)"
      ]
     },
     "execution_count": 15,
     "metadata": {},
     "output_type": "execute_result"
    }
   ],
   "source": [
    "stats.ttest_ind(df2[df2.exp_group == 1].CTR, df2[df2.exp_group == 2].CTR, equal_var = False)"
   ]
  },
  {
   "cell_type": "code",
   "execution_count": 16,
   "id": "71b2939f-96fa-46e0-9f38-e1defd8e744c",
   "metadata": {},
   "outputs": [
    {
     "data": {
      "text/plain": [
       "Ttest_indResult(statistic=6.122579994775972, pvalue=9.439432187037712e-10)"
      ]
     },
     "execution_count": 16,
     "metadata": {},
     "output_type": "execute_result"
    }
   ],
   "source": [
    "stats.ttest_ind(df2[df2.exp_group == 1].linerised_likes, df2[df2.exp_group == 2].linerised_likes, equal_var = False)"
   ]
  },
  {
   "cell_type": "markdown",
   "id": "0d89e5b0-f065-4d64-958e-c6c1943a7119",
   "metadata": {},
   "source": [
    "# Т-тест по группа 0 и 3 изначально показал низкое Р-уровень значимости, а Т-тест на линезированных лайках еще сильнее уменьшил его значением;"
   ]
  },
  {
   "cell_type": "markdown",
   "id": "7d18b5f7-85cd-4ca3-aa2d-7c1b0eb7691c",
   "metadata": {},
   "source": [
    "# Т-тест, использовавшийся в задании 5.2 на группах 1 и 2, как и в прошлый раз, не показал статистически значимого результата, а на линезированных лайках Р-уровень значимости уменьшился достаточно до статистической значимости, соответственно, на обоих примерах этот метод оказался эффективным."
   ]
  },
  {
   "cell_type": "code",
   "execution_count": null,
   "id": "b32958bd-4088-49a1-b72f-f15cee365b8c",
   "metadata": {},
   "outputs": [],
   "source": []
  },
  {
   "cell_type": "code",
   "execution_count": null,
   "id": "34f3e2a8-81e2-4f08-a6a0-9a0436b9d823",
   "metadata": {},
   "outputs": [],
   "source": []
  },
  {
   "cell_type": "code",
   "execution_count": null,
   "id": "ef754332-63fe-4970-98c6-5b8082a16866",
   "metadata": {},
   "outputs": [],
   "source": []
  },
  {
   "cell_type": "code",
   "execution_count": null,
   "id": "c791e3b6-5ba9-453a-b933-a6bed39fdea3",
   "metadata": {},
   "outputs": [],
   "source": []
  },
  {
   "cell_type": "code",
   "execution_count": null,
   "id": "169d31aa-dd01-4085-8425-b49bb08a7114",
   "metadata": {},
   "outputs": [],
   "source": []
  },
  {
   "cell_type": "code",
   "execution_count": null,
   "id": "f46a7f7b-751c-461f-b2f0-bda57fc1ef46",
   "metadata": {},
   "outputs": [],
   "source": []
  }
 ],
 "metadata": {
  "kernelspec": {
   "display_name": "Python 3 (ipykernel)",
   "language": "python",
   "name": "python3"
  },
  "language_info": {
   "codemirror_mode": {
    "name": "ipython",
    "version": 3
   },
   "file_extension": ".py",
   "mimetype": "text/x-python",
   "name": "python",
   "nbconvert_exporter": "python",
   "pygments_lexer": "ipython3",
   "version": "3.8.10"
  }
 },
 "nbformat": 4,
 "nbformat_minor": 5
}
