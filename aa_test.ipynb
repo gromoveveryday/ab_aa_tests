{
 "cells": [
  {
   "cell_type": "markdown",
   "id": "2f134e7d-6459-47c3-8c70-6881d2e248fb",
   "metadata": {},
   "source": [
    "# Выполнение АА-теста необходимо нам для проверки корректности работы системы сплитирования, которая была применена для нашего набора данных. Это крайне важный этап для последующего проведения AB-теста. Первым этапом для выполнения задания является импортирование необходимых для анализа питон-бибилиотек;"
   ]
  },
  {
   "cell_type": "code",
   "execution_count": 138,
   "id": "788d1824-240d-409b-8814-3a6a6e01021f",
   "metadata": {
    "tags": []
   },
   "outputs": [],
   "source": [
    "import pandas as pd\n",
    "import matplotlib.pyplot as plt\n",
    "import seaborn as sns\n",
    "import pandahouse\n",
    "import scipy.stats as stats\n",
    "%matplotlib inline"
   ]
  },
  {
   "cell_type": "markdown",
   "id": "39db2892-8832-4b4d-9869-41dd79e78d52",
   "metadata": {
    "tags": []
   },
   "source": [
    "# Следующим этапом послужит создание датафрейма из селект запроса по нужным экспериметнальным группам и датам, по которым нам необходимо провести АА-тест, используя применимые для этого билиотеки;"
   ]
  },
  {
   "cell_type": "code",
   "execution_count": 139,
   "id": "4d568558-4584-4b2c-b5d6-78ec64f043ab",
   "metadata": {},
   "outputs": [
    {
     "data": {
      "text/html": [
       "<div>\n",
       "<style scoped>\n",
       "    .dataframe tbody tr th:only-of-type {\n",
       "        vertical-align: middle;\n",
       "    }\n",
       "\n",
       "    .dataframe tbody tr th {\n",
       "        vertical-align: top;\n",
       "    }\n",
       "\n",
       "    .dataframe thead th {\n",
       "        text-align: right;\n",
       "    }\n",
       "</style>\n",
       "<table border=\"1\" class=\"dataframe\">\n",
       "  <thead>\n",
       "    <tr style=\"text-align: right;\">\n",
       "      <th></th>\n",
       "      <th>exp_group</th>\n",
       "      <th>user_id</th>\n",
       "      <th>likes</th>\n",
       "      <th>views</th>\n",
       "      <th>CTR</th>\n",
       "    </tr>\n",
       "  </thead>\n",
       "  <tbody>\n",
       "    <tr>\n",
       "      <th>0</th>\n",
       "      <td>3</td>\n",
       "      <td>115383</td>\n",
       "      <td>11</td>\n",
       "      <td>36</td>\n",
       "      <td>0.305556</td>\n",
       "    </tr>\n",
       "    <tr>\n",
       "      <th>1</th>\n",
       "      <td>3</td>\n",
       "      <td>123580</td>\n",
       "      <td>15</td>\n",
       "      <td>92</td>\n",
       "      <td>0.163043</td>\n",
       "    </tr>\n",
       "    <tr>\n",
       "      <th>2</th>\n",
       "      <td>2</td>\n",
       "      <td>131473</td>\n",
       "      <td>26</td>\n",
       "      <td>148</td>\n",
       "      <td>0.175676</td>\n",
       "    </tr>\n",
       "    <tr>\n",
       "      <th>3</th>\n",
       "      <td>2</td>\n",
       "      <td>23985</td>\n",
       "      <td>12</td>\n",
       "      <td>66</td>\n",
       "      <td>0.181818</td>\n",
       "    </tr>\n",
       "    <tr>\n",
       "      <th>4</th>\n",
       "      <td>2</td>\n",
       "      <td>24523</td>\n",
       "      <td>17</td>\n",
       "      <td>120</td>\n",
       "      <td>0.141667</td>\n",
       "    </tr>\n",
       "    <tr>\n",
       "      <th>...</th>\n",
       "      <td>...</td>\n",
       "      <td>...</td>\n",
       "      <td>...</td>\n",
       "      <td>...</td>\n",
       "      <td>...</td>\n",
       "    </tr>\n",
       "    <tr>\n",
       "      <th>17044</th>\n",
       "      <td>3</td>\n",
       "      <td>122008</td>\n",
       "      <td>4</td>\n",
       "      <td>31</td>\n",
       "      <td>0.129032</td>\n",
       "    </tr>\n",
       "    <tr>\n",
       "      <th>17045</th>\n",
       "      <td>2</td>\n",
       "      <td>25383</td>\n",
       "      <td>16</td>\n",
       "      <td>57</td>\n",
       "      <td>0.280702</td>\n",
       "    </tr>\n",
       "    <tr>\n",
       "      <th>17046</th>\n",
       "      <td>3</td>\n",
       "      <td>122190</td>\n",
       "      <td>25</td>\n",
       "      <td>74</td>\n",
       "      <td>0.337838</td>\n",
       "    </tr>\n",
       "    <tr>\n",
       "      <th>17047</th>\n",
       "      <td>2</td>\n",
       "      <td>108927</td>\n",
       "      <td>8</td>\n",
       "      <td>33</td>\n",
       "      <td>0.242424</td>\n",
       "    </tr>\n",
       "    <tr>\n",
       "      <th>17048</th>\n",
       "      <td>2</td>\n",
       "      <td>17310</td>\n",
       "      <td>2</td>\n",
       "      <td>14</td>\n",
       "      <td>0.142857</td>\n",
       "    </tr>\n",
       "  </tbody>\n",
       "</table>\n",
       "<p>17049 rows × 5 columns</p>\n",
       "</div>"
      ],
      "text/plain": [
       "       exp_group  user_id  likes  views       CTR\n",
       "0              3   115383     11     36  0.305556\n",
       "1              3   123580     15     92  0.163043\n",
       "2              2   131473     26    148  0.175676\n",
       "3              2    23985     12     66  0.181818\n",
       "4              2    24523     17    120  0.141667\n",
       "...          ...      ...    ...    ...       ...\n",
       "17044          3   122008      4     31  0.129032\n",
       "17045          2    25383     16     57  0.280702\n",
       "17046          3   122190     25     74  0.337838\n",
       "17047          2   108927      8     33  0.242424\n",
       "17048          2    17310      2     14  0.142857\n",
       "\n",
       "[17049 rows x 5 columns]"
      ]
     },
     "execution_count": 139,
     "metadata": {},
     "output_type": "execute_result"
    }
   ],
   "source": [
    "connection_0 = {'host': 'https://clickhouse.lab.karpov.courses',\n",
    "                      'database':'simulator_20221220',\n",
    "                      'user':'student', \n",
    "                      'password':'dpo_python_2020'\n",
    "}\n",
    "\n",
    "query = \"\"\"\n",
    "SELECT exp_group, user_id, SUM(action = 'like') AS likes, SUM(action = 'view') AS views, likes/ views AS CTR\n",
    "FROM {db}.feed_actions\n",
    "WHERE (toDate(time) BETWEEN '2022-11-25' AND '2022-12-01' ) AND exp_group IN (2, 3)\n",
    "GROUP BY exp_group, user_id\n",
    "\"\"\"\n",
    "df = pandahouse.read_clickhouse(query, connection = connection_0)\n",
    "df"
   ]
  },
  {
   "cell_type": "markdown",
   "id": "b61cdb6c-9ba0-45a2-8f83-bb436a03a9bd",
   "metadata": {},
   "source": [
    "# В полученном датафрейме можно посмотреть количество пользователей по экспериментальным группа;"
   ]
  },
  {
   "cell_type": "code",
   "execution_count": 140,
   "id": "055f5a6c-f456-4037-8d74-d2174407efca",
   "metadata": {},
   "outputs": [
    {
     "data": {
      "text/plain": [
       "exp_group\n",
       "2    8480\n",
       "3    8569\n",
       "Name: user_id, dtype: int64"
      ]
     },
     "execution_count": 140,
     "metadata": {},
     "output_type": "execute_result"
    }
   ],
   "source": [
    "df.groupby('exp_group')['user_id'].count()"
   ]
  },
  {
   "cell_type": "markdown",
   "id": "4522fb63-1b8c-4df5-980d-adc498f9c357",
   "metadata": {},
   "source": [
    "# Как видим, количество пользователей в группа примерно одинаковое, хотя и во второй группе их больше на 89, чем в третьей. Далее построим гистограмму распределения CTR по экспериментальным группам;\n"
   ]
  },
  {
   "cell_type": "code",
   "execution_count": 141,
   "id": "41b415f2-a561-4047-9523-9caa2690bec0",
   "metadata": {
    "tags": []
   },
   "outputs": [
    {
     "data": {
      "text/plain": [
       "<AxesSubplot:xlabel='CTR', ylabel='Count'>"
      ]
     },
     "execution_count": 141,
     "metadata": {},
     "output_type": "execute_result"
    },
    {
     "data": {
      "image/png": "[encoded data removed]",
      "text/plain": [
       "<Figure size 432x288 with 1 Axes>"
      ]
     },
     "metadata": {
      "needs_background": "light"
     },
     "output_type": "display_data"
    }
   ],
   "source": [
    "sns.histplot(data = df, x = 'CTR', hue = 'exp_group', palette = ['b', 'r'])"
   ]
  },
  {
   "cell_type": "markdown",
   "id": "aac67742-4d02-41f9-9a89-ce2de6d57ac6",
   "metadata": {
    "tags": []
   },
   "source": [
    "# Визуально по графику можно сделать вывод, что расределение CTR по экспериментальным группа примерно одинаковое. Далее проведем Т-тест по двум экспериментальным группа, дисперсии нам неизвестны;"
   ]
  },
  {
   "cell_type": "code",
   "execution_count": 142,
   "id": "9c656b8c-3c7b-419d-923a-1674b396567f",
   "metadata": {},
   "outputs": [
    {
     "data": {
      "text/plain": [
       "Ttest_indResult(statistic=-0.7393597924958364, pvalue=0.45969873156476293)"
      ]
     },
     "execution_count": 142,
     "metadata": {},
     "output_type": "execute_result"
    }
   ],
   "source": [
    "a, b = df[df.exp_group == 2].CTR, df[df.exp_group == 3].CTR\n",
    "stats.ttest_ind(a, b, equal_var = False)"
   ]
  },
  {
   "cell_type": "markdown",
   "id": "dcccdb55-0019-4e86-92f8-8387e6c0e460",
   "metadata": {},
   "source": [
    "# По результатам Т-теста P-уровень значимости составил ~ 0.46, а это значит, что у нас нет оснований отклонить гипотезу о том, что эти группы отличаются. Согласно заданию, нам необходимо провести 10000 АА-тестов, в рамках которых из каждой из экспериментальной групп будет выбрано по 500 случайных пользователей;"
   ]
  },
  {
   "cell_type": "code",
   "execution_count": 143,
   "id": "ae4f571d-1552-4e62-9d3e-c0d85bc001f0",
   "metadata": {},
   "outputs": [],
   "source": [
    "z = []\n",
    "for i in range(10000):\n",
    "    z1 = a.sample(n = 500, replace = False).to_list()\n",
    "    z2 = b.sample(n = 500, replace = False).to_list()\n",
    "    z.append(stats.ttest_ind(z1, z2, equal_var = False)[1])\n",
    "\n",
    "        \n",
    "    "
   ]
  },
  {
   "cell_type": "markdown",
   "id": "6ba8ecae-f19e-422b-8fd4-2e9653f00a54",
   "metadata": {},
   "source": [
    "# По полученным значениям необходиму построить гистограмму; "
   ]
  },
  {
   "cell_type": "code",
   "execution_count": 144,
   "id": "d3acb00b-356a-4545-bdfe-a4794e0496fe",
   "metadata": {
    "tags": []
   },
   "outputs": [
    {
     "data": {
      "image/png": "[encoded data removed]",
      "text/plain": [
       "<Figure size 720x504 with 1 Axes>"
      ]
     },
     "metadata": {
      "needs_background": "light"
     },
     "output_type": "display_data"
    }
   ],
   "source": [
    "fig, ax = plt.subplots(1, 1, figsize = (10, 7))\n",
    "\n",
    "ax.hist(z, density = False, facecolor = 'b')\n",
    "\n",
    "plt.xlabel('P-уровень значимости') \n",
    "plt.ylabel('Количество') \n",
    "plt.title('Распределение p-уровеней значимости') \n",
    "\n",
    "plt.show()"
   ]
  },
  {
   "cell_type": "markdown",
   "id": "77387f3d-ad12-42f2-8f5b-3ea231edd1fa",
   "metadata": {},
   "source": [
    "# Далее по полученным данным необходимо посчитать, какое количество % наблюдений имею р-значение меньше или равное 0,05;"
   ]
  },
  {
   "cell_type": "code",
   "execution_count": 145,
   "id": "50be2ee9-8e1a-47f4-83ca-805874b33f5a",
   "metadata": {},
   "outputs": [
    {
     "name": "stdout",
     "output_type": "stream",
     "text": [
      "Вывод по выполнению задания следующий: по результатам проведенных АА-тестов, 4.67 % от всех наблюдений имеют различное значение CTR от общей выборки, что позволяет принять гипотезу о том, что экспериментальные группы 2 и 3 не имеют различий. Можно утверждать, что система сплитирования работает правильно.\n"
     ]
    }
   ],
   "source": [
    "counter = 0\n",
    "for i in range(len(z)):\n",
    "    if z[i] <= 0.05:\n",
    "        counter += 1\n",
    "f = counter/len(z) * 100\n",
    "if f <= 5:\n",
    "    print('Вывод по выполнению задания следующий: по результатам проведенных АА-тестов, ' +  str(f) + ' % от всех наблюдений имеют различное значение CTR от общей выборки, что позволяет принять гипотезу о том, что экспериментальные группы 2 и 3 не имеют различий. Можно утверждать, что система сплитирования работает правильно.')\n",
    "else:\n",
    "    print('Вывод по выполнению задания следующий: по результатам проведенных АА-тестов, ' +  str(f) + ' % от всех наблюдений имеют различное значение CTR от общей выборки, что позволяет принять гипотезу о том, что экспериментальные группы 2 и 3 имею различия. Можно утверждать, что система сплитирования работает неправильно.')\n"
   ]
  },
  {
   "cell_type": "markdown",
   "id": "7b60fb3f-a346-4fac-b869-80e81386e386",
   "metadata": {},
   "source": [
    "# Вывод по проделанному заданию написан выше.\n"
   ]
  }
 ],
 "metadata": {
  "kernelspec": {
   "display_name": "Python 3 (ipykernel)",
   "language": "python",
   "name": "python3"
  },
  "language_info": {
   "codemirror_mode": {
    "name": "ipython",
    "version": 3
   },
   "file_extension": ".py",
   "mimetype": "text/x-python",
   "name": "python",
   "nbconvert_exporter": "python",
   "pygments_lexer": "ipython3",
   "version": "3.8.10"
  }
 },
 "nbformat": 4,
 "nbformat_minor": 5
}
