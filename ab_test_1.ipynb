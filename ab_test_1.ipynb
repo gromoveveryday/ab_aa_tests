{
 "cells": [
  {
   "cell_type": "markdown",
   "id": "31f114cc-adbb-4c30-82d1-8cc5bd9dc75a",
   "metadata": {},
   "source": [
    "# Первым этапом для выполнения задания будет являться импорт необходимых питон-библиотек;"
   ]
  },
  {
   "cell_type": "code",
   "execution_count": 107,
   "id": "fecd9c48-d0fc-4e56-b8cc-3164d09b4031",
   "metadata": {},
   "outputs": [],
   "source": [
    "import pandas as pd\n",
    "import matplotlib.pyplot as plt\n",
    "import seaborn as sns\n",
    "import pandahouse\n",
    "import numpy as np\n",
    "import scipy.stats as stats\n",
    "%matplotlib inline"
   ]
  },
  {
   "cell_type": "markdown",
   "id": "674e5022-e606-47b2-a384-33bc0888f3f6",
   "metadata": {},
   "source": [
    "# Далее необходимо выгрузить нужные по заданию данные из кликхауса;"
   ]
  },
  {
   "cell_type": "code",
   "execution_count": 108,
   "id": "e0a30ead-6ef3-4082-91f3-a8dd5314f5ff",
   "metadata": {},
   "outputs": [
    {
     "data": {
      "text/html": [
       "<div>\n",
       "<style scoped>\n",
       "    .dataframe tbody tr th:only-of-type {\n",
       "        vertical-align: middle;\n",
       "    }\n",
       "\n",
       "    .dataframe tbody tr th {\n",
       "        vertical-align: top;\n",
       "    }\n",
       "\n",
       "    .dataframe thead th {\n",
       "        text-align: right;\n",
       "    }\n",
       "</style>\n",
       "<table border=\"1\" class=\"dataframe\">\n",
       "  <thead>\n",
       "    <tr style=\"text-align: right;\">\n",
       "      <th></th>\n",
       "      <th>exp_group</th>\n",
       "      <th>user_id</th>\n",
       "      <th>likes</th>\n",
       "      <th>views</th>\n",
       "      <th>CTR</th>\n",
       "    </tr>\n",
       "  </thead>\n",
       "  <tbody>\n",
       "    <tr>\n",
       "      <th>0</th>\n",
       "      <td>1</td>\n",
       "      <td>109963</td>\n",
       "      <td>3</td>\n",
       "      <td>15</td>\n",
       "      <td>0.200000</td>\n",
       "    </tr>\n",
       "    <tr>\n",
       "      <th>1</th>\n",
       "      <td>1</td>\n",
       "      <td>26117</td>\n",
       "      <td>32</td>\n",
       "      <td>141</td>\n",
       "      <td>0.226950</td>\n",
       "    </tr>\n",
       "    <tr>\n",
       "      <th>2</th>\n",
       "      <td>1</td>\n",
       "      <td>138232</td>\n",
       "      <td>18</td>\n",
       "      <td>73</td>\n",
       "      <td>0.246575</td>\n",
       "    </tr>\n",
       "    <tr>\n",
       "      <th>3</th>\n",
       "      <td>1</td>\n",
       "      <td>26295</td>\n",
       "      <td>33</td>\n",
       "      <td>122</td>\n",
       "      <td>0.270492</td>\n",
       "    </tr>\n",
       "    <tr>\n",
       "      <th>4</th>\n",
       "      <td>1</td>\n",
       "      <td>18392</td>\n",
       "      <td>7</td>\n",
       "      <td>32</td>\n",
       "      <td>0.218750</td>\n",
       "    </tr>\n",
       "    <tr>\n",
       "      <th>...</th>\n",
       "      <td>...</td>\n",
       "      <td>...</td>\n",
       "      <td>...</td>\n",
       "      <td>...</td>\n",
       "      <td>...</td>\n",
       "    </tr>\n",
       "    <tr>\n",
       "      <th>20026</th>\n",
       "      <td>1</td>\n",
       "      <td>132567</td>\n",
       "      <td>45</td>\n",
       "      <td>296</td>\n",
       "      <td>0.152027</td>\n",
       "    </tr>\n",
       "    <tr>\n",
       "      <th>20027</th>\n",
       "      <td>1</td>\n",
       "      <td>30872</td>\n",
       "      <td>11</td>\n",
       "      <td>59</td>\n",
       "      <td>0.186441</td>\n",
       "    </tr>\n",
       "    <tr>\n",
       "      <th>20028</th>\n",
       "      <td>2</td>\n",
       "      <td>25383</td>\n",
       "      <td>42</td>\n",
       "      <td>127</td>\n",
       "      <td>0.330709</td>\n",
       "    </tr>\n",
       "    <tr>\n",
       "      <th>20029</th>\n",
       "      <td>2</td>\n",
       "      <td>139020</td>\n",
       "      <td>24</td>\n",
       "      <td>114</td>\n",
       "      <td>0.210526</td>\n",
       "    </tr>\n",
       "    <tr>\n",
       "      <th>20030</th>\n",
       "      <td>2</td>\n",
       "      <td>17310</td>\n",
       "      <td>9</td>\n",
       "      <td>82</td>\n",
       "      <td>0.109756</td>\n",
       "    </tr>\n",
       "  </tbody>\n",
       "</table>\n",
       "<p>20031 rows × 5 columns</p>\n",
       "</div>"
      ],
      "text/plain": [
       "       exp_group  user_id  likes  views       CTR\n",
       "0              1   109963      3     15  0.200000\n",
       "1              1    26117     32    141  0.226950\n",
       "2              1   138232     18     73  0.246575\n",
       "3              1    26295     33    122  0.270492\n",
       "4              1    18392      7     32  0.218750\n",
       "...          ...      ...    ...    ...       ...\n",
       "20026          1   132567     45    296  0.152027\n",
       "20027          1    30872     11     59  0.186441\n",
       "20028          2    25383     42    127  0.330709\n",
       "20029          2   139020     24    114  0.210526\n",
       "20030          2    17310      9     82  0.109756\n",
       "\n",
       "[20031 rows x 5 columns]"
      ]
     },
     "execution_count": 108,
     "metadata": {},
     "output_type": "execute_result"
    }
   ],
   "source": [
    "connection_0 = {'host': 'https://clickhouse.lab.karpov.courses',\n",
    "                      'database':'simulator_20221220',\n",
    "                      'user':'student', \n",
    "                      'password':'dpo_python_2020'\n",
    "}\n",
    "\n",
    "query = \"\"\"\n",
    "SELECT exp_group, user_id, SUM(action = 'like') AS likes, SUM(action = 'view') AS views, likes/ views AS CTR\n",
    "FROM {db}.feed_actions\n",
    "WHERE (toDate(time) BETWEEN '2022-12-02' AND '2022-12-08' ) AND exp_group IN (1, 2)\n",
    "GROUP BY exp_group, user_id\n",
    "\"\"\"\n",
    "df = pandahouse.read_clickhouse(query, connection = connection_0)\n",
    "df"
   ]
  },
  {
   "cell_type": "markdown",
   "id": "647865b6-6bfd-421e-b027-21299ff1f45e",
   "metadata": {},
   "source": [
    "# Можно сгруппировать данные по экспериментальной группе и проверить количество наблюдей в каждой их них;"
   ]
  },
  {
   "cell_type": "code",
   "execution_count": 109,
   "id": "f88e8dbc-dd65-4acf-bbc5-b447be190559",
   "metadata": {},
   "outputs": [
    {
     "data": {
      "text/plain": [
       "exp_group\n",
       "1    10079\n",
       "2     9952\n",
       "Name: user_id, dtype: int64"
      ]
     },
     "execution_count": 109,
     "metadata": {},
     "output_type": "execute_result"
    }
   ],
   "source": [
    "df.groupby('exp_group')['user_id'].count()"
   ]
  },
  {
   "cell_type": "markdown",
   "id": "5dc55836-1b5f-4a78-ac20-eac118f0a2cf",
   "metadata": {},
   "source": [
    "# Количество наблюдений в группах примерно одинаковое, можно строить гистограмму распределения значения CTR по группам;"
   ]
  },
  {
   "cell_type": "code",
   "execution_count": 110,
   "id": "f1d74295-eb6d-40c5-9e9b-332397b775b0",
   "metadata": {},
   "outputs": [
    {
     "data": {
      "text/plain": [
       "<AxesSubplot:xlabel='CTR', ylabel='Count'>"
      ]
     },
     "execution_count": 110,
     "metadata": {},
     "output_type": "execute_result"
    },
    {
     "data": {
      "image/png": "[encoded data removed]",
      "text/plain": [
       "<Figure size 432x288 with 1 Axes>"
      ]
     },
     "metadata": {
      "needs_background": "light"
     },
     "output_type": "display_data"
    }
   ],
   "source": [
    "sns.histplot(data = df, x = 'CTR', hue = 'exp_group', palette = ['b', 'r'])"
   ]
  },
  {
   "cell_type": "markdown",
   "id": "5d641cf6-989d-4997-bb94-79c4f498d274",
   "metadata": {},
   "source": [
    "# Также проверим внутригрупповое средние значения по CTR;"
   ]
  },
  {
   "cell_type": "code",
   "execution_count": 111,
   "id": "a745d440-f7a1-4dbb-884b-2d8b1ecaecb0",
   "metadata": {},
   "outputs": [
    {
     "name": "stdout",
     "output_type": "stream",
     "text": [
      "0.21560459841296287\n",
      "0.21441927347479375\n"
     ]
    }
   ],
   "source": [
    "print(df[df.exp_group == 1].CTR.mean())\n",
    "print(df[df.exp_group == 2].CTR.mean())"
   ]
  },
  {
   "cell_type": "markdown",
   "id": "74a90f69-24f0-41dd-921e-80c2cb0cf49c",
   "metadata": {},
   "source": [
    "# По гистограмме визуально можно судить, что контрольная группа распределена примерно нормально, однако экспериментальная группа имеет скошенное распределение, соотвестственно данные распределены в ней ненормально. При этом средние значения по группам имеют примерно одинаковые значения, необходимо провести соответствующие тесты. Можно провести Т-тест;"
   ]
  },
  {
   "cell_type": "code",
   "execution_count": 112,
   "id": "3cb88f43-cf22-4eef-88fa-7ab0ca4d94fa",
   "metadata": {},
   "outputs": [
    {
     "data": {
      "text/plain": [
       "Ttest_indResult(statistic=0.7094392041270486, pvalue=0.4780623130874935)"
      ]
     },
     "execution_count": 112,
     "metadata": {},
     "output_type": "execute_result"
    }
   ],
   "source": [
    "a, b = df[df.exp_group == 1].CTR, df[df.exp_group == 2].CTR\n",
    "stats.ttest_ind(a, b, equal_var = False)"
   ]
  },
  {
   "cell_type": "markdown",
   "id": "20f9b3b2-79fb-4c36-a344-2b5c56f93492",
   "metadata": {},
   "source": [
    "# По результатам Т-теста Р-уровень значимости ~ 0.5, это значит, мы не можем отклонить гипотезу о равенстве средних между группами. Далее проведем тест Манна-Уитни, нулевая гипотеза звучит примерно так: верояность того, что случайное значение из контрольной выборки больше случайного значения из эксперименртальной, равна вероятности того, что случайное значение из экспериментальной больше случайного значения из контрольной выборки;"
   ]
  },
  {
   "cell_type": "code",
   "execution_count": 113,
   "id": "9b1e174f-8835-495d-aad3-d50aebb860e5",
   "metadata": {},
   "outputs": [
    {
     "data": {
      "text/plain": [
       "MannwhitneyuResult(statistic=56601260.5, pvalue=6.0376484617779035e-56)"
      ]
     },
     "execution_count": 113,
     "metadata": {},
     "output_type": "execute_result"
    }
   ],
   "source": [
    "stats.mannwhitneyu(a, b)"
   ]
  },
  {
   "cell_type": "markdown",
   "id": "90a41dd4-49e4-4a1a-964c-5b0d83be2e31",
   "metadata": {},
   "source": [
    "# По результатам теста Манна-Уитни, мы можем отклонить гипотезу о равенстве вероятностей. Так как оба тесты показали разные результаты, далее проведем Т-тест на сглаженном CTR;"
   ]
  },
  {
   "cell_type": "code",
   "execution_count": 114,
   "id": "454e5ed9-d0a2-4023-bdc7-3cca0e2c3f15",
   "metadata": {},
   "outputs": [
    {
     "data": {
      "text/plain": [
       "<AxesSubplot:xlabel='CTR', ylabel='Count'>"
      ]
     },
     "execution_count": 114,
     "metadata": {},
     "output_type": "execute_result"
    },
    {
     "data": {
      "image/png": "[encoded data removed]",
      "text/plain": [
       "<Figure size 432x288 with 1 Axes>"
      ]
     },
     "metadata": {
      "needs_background": "light"
     },
     "output_type": "display_data"
    }
   ],
   "source": [
    "# Для сглаживания CTR мы используем функцию из лекции\n",
    "def get_smothed_ctr(user_likes, user_views, global_ctr, alpha):\n",
    "    smothed_ctr = (user_likes + alpha * global_ctr) / (user_views + alpha)\n",
    "    return smothed_ctr\n",
    "\n",
    "global_ctr_1 = df[df.exp_group == 1].likes.sum()/df[df.exp_group == 1].views.sum()\n",
    "global_ctr_2 = df[df.exp_group == 2].likes.sum()/df[df.exp_group == 2].views.sum()\n",
    "\n",
    "group1 = df[df.exp_group == 1].copy()\n",
    "sns.histplot(group1.CTR, \n",
    "             kde = False)"
   ]
  },
  {
   "cell_type": "code",
   "execution_count": 115,
   "id": "433daf5b-4a02-4a4c-afcd-23917ce89694",
   "metadata": {},
   "outputs": [
    {
     "data": {
      "text/plain": [
       "<AxesSubplot:xlabel='smothed_CTR', ylabel='Count'>"
      ]
     },
     "execution_count": 115,
     "metadata": {},
     "output_type": "execute_result"
    },
    {
     "data": {
      "image/png": "[encoded data removed]",
      "text/plain": [
       "<Figure size 432x288 with 1 Axes>"
      ]
     },
     "metadata": {
      "needs_background": "light"
     },
     "output_type": "display_data"
    }
   ],
   "source": [
    "group1['smothed_CTR'] = df.apply(\n",
    "    lambda x: get_smothed_ctr(x['likes'], x['views'], global_ctr_1, 5), axis=1)\n",
    "\n",
    "sns.histplot(group1.smothed_CTR, \n",
    "             kde = False)"
   ]
  },
  {
   "cell_type": "code",
   "execution_count": 116,
   "id": "9c19e085-a6b3-45a3-ac7d-e886f209905f",
   "metadata": {},
   "outputs": [
    {
     "data": {
      "text/plain": [
       "<AxesSubplot:xlabel='CTR', ylabel='Count'>"
      ]
     },
     "execution_count": 116,
     "metadata": {},
     "output_type": "execute_result"
    },
    {
     "data": {
      "image/png": "[encoded data removed]",
      "text/plain": [
       "<Figure size 432x288 with 1 Axes>"
      ]
     },
     "metadata": {
      "needs_background": "light"
     },
     "output_type": "display_data"
    }
   ],
   "source": [
    "group2 = df[df.exp_group == 2].copy()\n",
    "sns.histplot(group2.CTR, \n",
    "             kde = False)"
   ]
  },
  {
   "cell_type": "code",
   "execution_count": 117,
   "id": "89adaa8b-a88e-4e06-8e42-0f8fe23e7d26",
   "metadata": {},
   "outputs": [
    {
     "data": {
      "text/plain": [
       "<AxesSubplot:xlabel='smothed_CTR', ylabel='Count'>"
      ]
     },
     "execution_count": 117,
     "metadata": {},
     "output_type": "execute_result"
    },
    {
     "data": {
      "image/png": "[encoded data removed]",
      "text/plain": [
       "<Figure size 432x288 with 1 Axes>"
      ]
     },
     "metadata": {
      "needs_background": "light"
     },
     "output_type": "display_data"
    }
   ],
   "source": [
    "group2['smothed_CTR'] = df.apply(\n",
    "    lambda x: get_smothed_ctr(x['likes'], x['views'], global_ctr_2, 5), axis=1)\n",
    "\n",
    "sns.histplot(group2.smothed_CTR, \n",
    "             kde = False)"
   ]
  },
  {
   "cell_type": "code",
   "execution_count": 118,
   "id": "aa600aa8-82d4-44fa-9e4a-84e28bc2cff0",
   "metadata": {},
   "outputs": [
    {
     "data": {
      "text/plain": [
       "Ttest_indResult(statistic=2.2841320431616983, pvalue=0.0223769815558559)"
      ]
     },
     "execution_count": 118,
     "metadata": {},
     "output_type": "execute_result"
    }
   ],
   "source": [
    "c, d = group1.smothed_CTR, group2.smothed_CTR\n",
    "stats.ttest_ind(c, d, equal_var = False)"
   ]
  },
  {
   "cell_type": "markdown",
   "id": "f0748858-89d5-429c-a3cb-df491983d46c",
   "metadata": {},
   "source": [
    "# По итогам Т-теста по сглаженному CTR, мы можем отклонить гипотезу о равенстве средних, таким образом, если заменить данные пользователей, имеющих низкую активность в обеих группах, то можно получить статистически значимые отличия между группами. Далее проведем Пуассоновский бутстреп и сравним полученные значения CTR;"
   ]
  },
  {
   "cell_type": "code",
   "execution_count": 119,
   "id": "6b764a5f-8763-4677-a351-2c2c07be61cf",
   "metadata": {},
   "outputs": [],
   "source": [
    "# Для распределения Пуассона по нашим данным используем функцию из лекции\n",
    "def bootstrap(likes1, views1, likes2, views2, n_bootstrap=2000):\n",
    "\n",
    "    poisson_bootstraps1 = stats.poisson(1).rvs(\n",
    "        (n_bootstrap, len(likes1))).astype(np.int64)\n",
    "\n",
    "    poisson_bootstraps2 = stats.poisson(1).rvs(\n",
    "            (n_bootstrap, len(likes2))).astype(np.int64)\n",
    "    \n",
    "    globalCTR1 = (poisson_bootstraps1*likes1).sum(axis=1)/(poisson_bootstraps1*views1).sum(axis=1)\n",
    "    \n",
    "    globalCTR2 = (poisson_bootstraps2*likes2).sum(axis=1)/(poisson_bootstraps2*views2).sum(axis=1)\n",
    "\n",
    "    return globalCTR1, globalCTR2"
   ]
  },
  {
   "cell_type": "code",
   "execution_count": 120,
   "id": "c83e4bc1-3945-46e6-acf8-6238739ef8c2",
   "metadata": {},
   "outputs": [
    {
     "data": {
      "text/plain": [
       "<AxesSubplot:ylabel='Count'>"
      ]
     },
     "execution_count": 120,
     "metadata": {},
     "output_type": "execute_result"
    },
    {
     "data": {
      "image/png": "[encoded data removed]",
      "text/plain": [
       "<Figure size 432x288 with 1 Axes>"
      ]
     },
     "metadata": {
      "needs_background": "light"
     },
     "output_type": "display_data"
    }
   ],
   "source": [
    "\n",
    "likes1 = df[df.exp_group == 1].likes.to_numpy()\n",
    "views1 = df[df.exp_group == 1].views.to_numpy()\n",
    "likes2 = df[df.exp_group == 2].likes.to_numpy()\n",
    "views2 = df[df.exp_group == 2].views.to_numpy()\n",
    "\n",
    "ctr1, ctr2 = bootstrap(likes1, views1, likes2, views2)\n",
    "\n",
    "sns.histplot(ctr1)\n",
    "sns.histplot(ctr2)"
   ]
  },
  {
   "cell_type": "code",
   "execution_count": 121,
   "id": "a8c89fc9-7205-4e3d-ab0f-d12317a29400",
   "metadata": {},
   "outputs": [
    {
     "data": {
      "image/png": "[encoded data removed]",
      "text/plain": [
       "<Figure size 1080x720 with 1 Axes>"
      ]
     },
     "metadata": {
      "needs_background": "light"
     },
     "output_type": "display_data"
    }
   ],
   "source": [
    "fig, ax = plt.subplots(1, 1, figsize = (15, 10))\n",
    "\n",
    "ax.hist(ctr1, density = False, facecolor = 'b')\n",
    "ax.hist(ctr2, density = False, facecolor = 'r')\n",
    "\n",
    "plt.xlabel('CTR') \n",
    "plt.ylabel('Количество') \n",
    "plt.title('Пуассоновский бустреп')\n",
    "\n",
    "plt.show()"
   ]
  },
  {
   "cell_type": "code",
   "execution_count": 122,
   "id": "40955e77-cd71-4371-aa2f-db4140c65523",
   "metadata": {},
   "outputs": [
    {
     "data": {
      "text/plain": [
       "<AxesSubplot:ylabel='Count'>"
      ]
     },
     "execution_count": 122,
     "metadata": {},
     "output_type": "execute_result"
    },
    {
     "data": {
      "image/png": "[encoded data removed]",
      "text/plain": [
       "<Figure size 432x288 with 1 Axes>"
      ]
     },
     "metadata": {
      "needs_background": "light"
     },
     "output_type": "display_data"
    }
   ],
   "source": [
    "sns.histplot(ctr2 - ctr1)"
   ]
  },
  {
   "cell_type": "markdown",
   "id": "10a86ece-31f9-4b91-8d04-332f2fa605e4",
   "metadata": {},
   "source": [
    "# Таким образом, после Пуассоновского преобразования распределения значений CTR, мы наглядно видим разницу CTR между группами, а именно то, что CTR в контрольной группе оказался больше, чем в экспериментальной. В заключение, проведем Т-тест и тест Манна-Уитни поверх бакетного преобразования;"
   ]
  },
  {
   "cell_type": "code",
   "execution_count": 123,
   "id": "8592f5ea-75de-4b7c-a10d-5949b54a849c",
   "metadata": {},
   "outputs": [],
   "source": [
    "# Используем запрос из лекции\n",
    "q = \"\"\"\n",
    "\n",
    "SELECT exp_group, bucket, SUM(likes)/SUM(views) AS bucket_CTR, quantileExact(0.9)(ctr) AS CTR_9\n",
    "FROM (\n",
    "SELECT exp_group, xxHash64(user_id)%50 AS bucket, user_id, SUM(action = 'like') AS likes, SUM(action = 'view') AS views, likes/views AS ctr\n",
    "FROM {db}.feed_actions \n",
    "WHERE toDate(time) between '2022-12-02' AND '2022-12-08' AND exp_group in (1,2)\n",
    "GROUP BY exp_group, bucket, user_id)\n",
    "GROUP BY exp_group, bucket\n",
    "\"\"\"\n",
    "\n",
    "df_bucket = pandahouse.read_clickhouse(q, connection=connection)"
   ]
  },
  {
   "cell_type": "code",
   "execution_count": 124,
   "id": "6d421d07-05f6-447a-b612-eb23ccfb7676",
   "metadata": {},
   "outputs": [
    {
     "data": {
      "text/plain": [
       "MannwhitneyuResult(statistic=1995.0, pvalue=2.859963936492646e-07)"
      ]
     },
     "execution_count": 124,
     "metadata": {},
     "output_type": "execute_result"
    }
   ],
   "source": [
    "e, f = df_bucket[df_bucket.exp_group == 1].bucket_CTR, df_bucket[df_bucket.exp_group == 2].bucket_CTR\n",
    "stats.mannwhitneyu(e, f, alternative = 'two-sided')"
   ]
  },
  {
   "cell_type": "code",
   "execution_count": 125,
   "id": "47070637-032f-4cfd-950b-e926bfd600a0",
   "metadata": {},
   "outputs": [
    {
     "data": {
      "text/plain": [
       "Ttest_indResult(statistic=5.668234732053979, pvalue=3.4455951649945907e-07)"
      ]
     },
     "execution_count": 125,
     "metadata": {},
     "output_type": "execute_result"
    }
   ],
   "source": [
    "stats.ttest_ind(e, f, equal_var = False)"
   ]
  },
  {
   "cell_type": "markdown",
   "id": "f680b864-de79-4e7f-8d0d-8a3fd3b77e9f",
   "metadata": {},
   "source": [
    "# Для выбранных нами бакетов (условных метапользователей) мы получили Р-уровни значимости по тестам, позволяющие отклонить гипотезы о равенстве средних и вероятностях случайных величин. Также мы еще считали 90%-квантиль по CTR-у. Построим графики распределения CTR и CTR для 90% квантиля по обеим группам;"
   ]
  },
  {
   "cell_type": "code",
   "execution_count": 126,
   "id": "c2f26e05-d1a5-4876-b249-d370347eb575",
   "metadata": {},
   "outputs": [
    {
     "data": {
      "text/plain": [
       "<AxesSubplot:xlabel='bucket_CTR', ylabel='Count'>"
      ]
     },
     "execution_count": 126,
     "metadata": {},
     "output_type": "execute_result"
    },
    {
     "data": {
      "image/png": "[encoded data removed]",
      "text/plain": [
       "<Figure size 432x288 with 1 Axes>"
      ]
     },
     "metadata": {
      "needs_background": "light"
     },
     "output_type": "display_data"
    }
   ],
   "source": [
    "sns.histplot(df_bucket[df_bucket.exp_group == 1].bucket_CTR)"
   ]
  },
  {
   "cell_type": "code",
   "execution_count": 127,
   "id": "38ec3fdd-6cf5-47f3-bc8f-52645007551a",
   "metadata": {},
   "outputs": [
    {
     "data": {
      "text/plain": [
       "<AxesSubplot:xlabel='bucket_CTR', ylabel='Count'>"
      ]
     },
     "execution_count": 127,
     "metadata": {},
     "output_type": "execute_result"
    },
    {
     "data": {
      "image/png": "[encoded data removed]",
      "text/plain": [
       "<Figure size 432x288 with 1 Axes>"
      ]
     },
     "metadata": {
      "needs_background": "light"
     },
     "output_type": "display_data"
    }
   ],
   "source": [
    "sns.histplot(df_bucket[df_bucket.exp_group == 2].bucket_CTR)"
   ]
  },
  {
   "cell_type": "markdown",
   "id": "59982f35-6945-48d5-82c7-838cc26eb92b",
   "metadata": {},
   "source": [
    "# По общему CTR контрольная группа распределена нормально, но экспериментально визуально имеет две моды;"
   ]
  },
  {
   "cell_type": "code",
   "execution_count": 128,
   "id": "bac55660-a97f-4d5d-a702-6d19cf11f3da",
   "metadata": {},
   "outputs": [
    {
     "data": {
      "text/plain": [
       "<AxesSubplot:xlabel='CTR_9', ylabel='Count'>"
      ]
     },
     "execution_count": 128,
     "metadata": {},
     "output_type": "execute_result"
    },
    {
     "data": {
      "image/png": "[encoded data removed]",
      "text/plain": [
       "<Figure size 432x288 with 1 Axes>"
      ]
     },
     "metadata": {
      "needs_background": "light"
     },
     "output_type": "display_data"
    }
   ],
   "source": [
    "sns.histplot(df_bucket[df_bucket.exp_group == 1].CTR_9)"
   ]
  },
  {
   "cell_type": "code",
   "execution_count": 129,
   "id": "892132b4-071b-4524-9bb0-088057e25098",
   "metadata": {},
   "outputs": [
    {
     "data": {
      "text/plain": [
       "<AxesSubplot:xlabel='CTR_9', ylabel='Count'>"
      ]
     },
     "execution_count": 129,
     "metadata": {},
     "output_type": "execute_result"
    },
    {
     "data": {
      "image/png": "[encoded data removed]",
      "text/plain": [
       "<Figure size 432x288 with 1 Axes>"
      ]
     },
     "metadata": {
      "needs_background": "light"
     },
     "output_type": "display_data"
    }
   ],
   "source": [
    "sns.histplot(df_bucket[df_bucket.exp_group == 2].CTR_9)"
   ]
  },
  {
   "cell_type": "markdown",
   "id": "737a4a8c-a5c3-4cfa-b640-a6125c3e2630",
   "metadata": {},
   "source": [
    "# По 90% квантилю обе группы имеют перекос, хотя оба графика похожи на нормальное распределение, можно провести оба теста;"
   ]
  },
  {
   "cell_type": "code",
   "execution_count": 130,
   "id": "895e307c-9a02-4227-b8b4-81dbc70b8b6c",
   "metadata": {},
   "outputs": [
    {
     "data": {
      "text/plain": [
       "MannwhitneyuResult(statistic=0.0, pvalue=6.344839189967265e-18)"
      ]
     },
     "execution_count": 130,
     "metadata": {},
     "output_type": "execute_result"
    }
   ],
   "source": [
    "g, h = df_bucket[df_bucket.exp_group == 1].CTR_9, df_bucket[df_bucket.exp_group == 2].CTR_9\n",
    "stats.mannwhitneyu(g, h, alternative = 'two-sided')"
   ]
  },
  {
   "cell_type": "code",
   "execution_count": 131,
   "id": "8bf32f5d-f8fa-4382-89f6-05d0b55201c5",
   "metadata": {},
   "outputs": [
    {
     "data": {
      "text/plain": [
       "Ttest_indResult(statistic=-23.214341215937406, pvalue=1.2945537024964474e-40)"
      ]
     },
     "execution_count": 131,
     "metadata": {},
     "output_type": "execute_result"
    }
   ],
   "source": [
    "stats.ttest_ind(g, h, equal_var = False)"
   ]
  },
  {
   "cell_type": "markdown",
   "id": "2a483d1b-8489-4f73-8196-41b432d2e416",
   "metadata": {},
   "source": [
    "# По полученным результатам тестов и методов можно сделать следующие выводы. Изначально контрольная группа и экспериментальная имели разное распределение - нормальное и ненормальное. Соответственно, это сказалось на полученных результатах Т-теста, но после сглаживания CTR получилось изменить результаты Т-теста на статистически значимые. При этом, результаты теста Манна-Уитни всегда позволяли отклонить гипотезу о равеностве вероятностей случайных значений из выборок. Пуассоновское распределение значений CTR по группам позволило наглядно оценить разность значений между группами, значения CTR в контрольной группе оказались больше, чем в экспериментальной и это распределение визуально имеет нормальный вид, однако же этот метод не рекондуется применять в данном эксперименте, так как на начальных данных экспериментльная группа имела бимодальное распределение, а после преобразования оно столо унимодальным. Бакетное преобразование позволило привести данные к нормальному виду, и результаты по статистическим тестам между бакетами и квантилями интересующих нас групп оказались значимыми, что позволяет утверждать, что средние значения между группами разные и вероятность получить из одной группы большее значение не такая же, как получить большее значение из другой (В данном АВ-тесте предпочтительны к использованию Т-тест и тест Манна-Уитни на сглаженных CTR и бакетном преобразовании);"
   ]
  },
  {
   "cell_type": "markdown",
   "id": "7faca167-029a-4269-8262-8c0ce28f14dd",
   "metadata": {},
   "source": [
    "# Изменения в результатах тестов можно объяснить изначальным отличием в распределении двух групп, после достижения нормальности в обеих группах, был изменен результат Т-тестов на противоположный. Обе группы действительное разные, и если применять Т-тесты напрямую без преобразования данных, то получаются не совсем корректные результаты;"
   ]
  },
  {
   "cell_type": "markdown",
   "id": "423a22e6-242e-4910-9ffd-8bd6bb6de987",
   "metadata": {},
   "source": [
    "# Алгоритм рекомендаций для пользователей по полученным результатам не рекомендуется к широкому использованию, так как АВ-тест подтвердил однозначно негативный эффект на показатель CTR в исследуемой группе. Возможно, имеет смысл повторить тест на больших датах, что дало бы возможность не использовать сглаженный CTR, а использовать только бакетное преобразование и нужные тесты."
   ]
  }
 ],
 "metadata": {
  "kernelspec": {
   "display_name": "Python 3 (ipykernel)",
   "language": "python",
   "name": "python3"
  },
  "language_info": {
   "codemirror_mode": {
    "name": "ipython",
    "version": 3
   },
   "file_extension": ".py",
   "mimetype": "text/x-python",
   "name": "python",
   "nbconvert_exporter": "python",
   "pygments_lexer": "ipython3",
   "version": "3.8.10"
  }
 },
 "nbformat": 4,
 "nbformat_minor": 5
}
